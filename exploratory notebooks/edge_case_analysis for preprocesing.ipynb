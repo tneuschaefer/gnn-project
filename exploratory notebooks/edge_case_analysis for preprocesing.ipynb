{
 "cells": [
  {
   "metadata": {},
   "cell_type": "markdown",
   "source": [
    "# Edge Case Analysis for Preprocessing Errors\n",
    "\n",
    "This notebook focuses on debugging two problematic subjects (e.g., Sub12 and Sub41) whose files produce errors during preprocessing.\n",
    "\n",
    "The errors include:\n",
    "- \"Unable to synchronously open object (object 'cnt' doesn't exist)\"\n",
    "- \"Accessing a group is done with bytes or str, not <class 'tuple'>\"\n",
    "\n",
    "These errors and a few more, prevented us take full advantage of data, because it truncated majority of good data while considering it bad or by simply not accessing it\n",
    "\n",
    "This notebook is for analyzing these edge cases and the update the preprocessor module\n",
    "\n",
    "I'll analyze two subjects: Sub12 and Sub41."
   ],
   "id": "7b8b0e33a07ae1f8"
  },
  {
   "metadata": {
    "ExecuteTime": {
     "end_time": "2025-03-30T00:50:17.851155Z",
     "start_time": "2025-03-30T00:50:17.813734Z"
    }
   },
   "cell_type": "code",
   "source": [
    "# imports\n",
    "import os\n",
    "import glob\n",
    "import numpy as np\n",
    "import h5py\n",
    "import mne"
   ],
   "id": "97f2d324ae03a11f",
   "outputs": [],
   "execution_count": 1
  },
  {
   "cell_type": "code",
   "id": "initial_id",
   "metadata": {
    "collapsed": true,
    "ExecuteTime": {
     "end_time": "2025-03-30T00:50:17.855688Z",
     "start_time": "2025-03-30T00:50:17.853660Z"
    }
   },
   "source": [
    "def safe_get(dataset, key):\n",
    "    \"\"\"\n",
    "    Safely retrieve an object from an h5py group using a key.\n",
    "    If the key is a tuple, use its first element.\n",
    "    If the key is bytes, decode it to a string.\n",
    "    Returns the dataset if successful, or None.\n",
    "    \"\"\"\n",
    "    if isinstance(key, tuple):\n",
    "        key = key[0]\n",
    "    if isinstance(key, bytes):\n",
    "        key = key.decode('utf-8')\n",
    "    try:\n",
    "        obj = dataset[key]\n",
    "        if isinstance(obj, tuple):\n",
    "            obj = obj[0]\n",
    "        return obj[()]\n",
    "    except Exception as e:\n",
    "        print(f\"Error retrieving key '{key}': {e}\")\n",
    "        return None"
   ],
   "outputs": [],
   "execution_count": 2
  },
  {
   "metadata": {
    "ExecuteTime": {
     "end_time": "2025-03-30T00:50:17.894339Z",
     "start_time": "2025-03-30T00:50:17.891682Z"
    }
   },
   "cell_type": "code",
   "source": [
    "def analyze_group(group, label=\"\"):\n",
    "    \"\"\"\n",
    "    Print detailed information for all keys in an h5py group.\n",
    "    For each key, print its type, dtype (if available), shape (if available), and a data preview.\n",
    "    \"\"\"\n",
    "    print(f\"\\nDetailed analysis for group {label}:\")\n",
    "    for key in group.keys():\n",
    "        try:\n",
    "            obj = group[key]\n",
    "            dtype_info = obj.dtype if hasattr(obj, 'dtype') else 'N/A'\n",
    "            shape_info = obj.shape if hasattr(obj, 'shape') else 'N/A'\n",
    "            print(f\"  Key: {key} | Type: {type(obj)} | Dtype: {dtype_info} | Shape: {shape_info}\")\n",
    "            try:\n",
    "                data = obj[()]\n",
    "                preview = np.array(data).flatten()[:10]\n",
    "                print(f\"    Data preview: {preview}\")\n",
    "            except Exception as e:\n",
    "                print(f\"    Error retrieving data: {e}\")\n",
    "        except Exception as e:\n",
    "            print(f\"Error accessing key '{key}': {e}\")"
   ],
   "id": "1ba0ce04b0b0a711",
   "outputs": [],
   "execution_count": 3
  },
  {
   "metadata": {
    "ExecuteTime": {
     "end_time": "2025-03-30T00:50:17.901544Z",
     "start_time": "2025-03-30T00:50:17.898287Z"
    }
   },
   "cell_type": "code",
   "source": [
    "def analyze_marker_file(file_path):\n",
    "    \"\"\"\n",
    "    Open an mrk.mat file with h5py, identify the marker group, and analyze its keys.\n",
    "    Focus especially on the 'event' key and its subkeys.\n",
    "    \"\"\"\n",
    "    print(f\"\\nAnalyzing marker file: {file_path}\")\n",
    "    try:\n",
    "        with h5py.File(file_path, mode=\"r\") as f:\n",
    "            top_keys = list(f.keys())\n",
    "            print(\"Top-level keys:\", top_keys)\n",
    "\n",
    "            # Identify a marker group key (ignore '#refs#')\n",
    "            marker_key = None\n",
    "            for key in top_keys:\n",
    "                k_decoded = key.decode('utf-8') if isinstance(key, bytes) else key\n",
    "                if k_decoded.lower().startswith(\"mrk\") and k_decoded != \"#refs#\":\n",
    "                    marker_key = k_decoded\n",
    "                    break\n",
    "            if marker_key is None:\n",
    "                print(\"No valid marker group key found.\")\n",
    "                return\n",
    "            print(\"Using marker group key:\", marker_key)\n",
    "            mrk_group = f[marker_key]\n",
    "            print(\"Keys in marker group:\", list(mrk_group.keys()))\n",
    "            analyze_group(mrk_group, label=\"marker group\")\n",
    "\n",
    "            # Focus on 'event' key:\n",
    "            if \"event\" in mrk_group:\n",
    "                event_obj = mrk_group[\"event\"]\n",
    "                print(\"\\nAnalysis of 'event' key:\")\n",
    "                print(\"Type of 'event' object:\", type(event_obj))\n",
    "                if isinstance(event_obj, h5py.Group):\n",
    "                    analyze_group(event_obj, label=\"'event' group\")\n",
    "                else:\n",
    "                    try:\n",
    "                        data = event_obj[()]\n",
    "                        print(\"Retrieved event data. Shape:\", np.array(data).shape)\n",
    "                    except Exception as e:\n",
    "                        print(\"Error retrieving event data:\", e)\n",
    "            else:\n",
    "                print(\"'event' key not found in marker group.\")\n",
    "    except Exception as e:\n",
    "        print(f\"Error loading marker file {file_path}: {e}\")"
   ],
   "id": "b4606665b196e9d9",
   "outputs": [],
   "execution_count": 4
  },
  {
   "metadata": {
    "ExecuteTime": {
     "end_time": "2025-03-30T00:50:17.907277Z",
     "start_time": "2025-03-30T00:50:17.904910Z"
    }
   },
   "cell_type": "code",
   "source": [
    "def analyze_cnt_file(file_path):\n",
    "    \"\"\"\n",
    "    Open a cnt.mat (or alternative) file with h5py, list its top-level keys, and analyze the 'cnt' group if available.\n",
    "    \"\"\"\n",
    "    print(f\"\\nAnalyzing cnt file: {file_path}\")\n",
    "    try:\n",
    "        with h5py.File(file_path, mode=\"r\") as f:\n",
    "            top_keys = list(f.keys())\n",
    "            print(\"Top-level keys:\", top_keys)\n",
    "            # Look for a key starting with \"cnt\"\n",
    "            cnt_key = None\n",
    "            for key in top_keys:\n",
    "                k_decoded = key.decode('utf-8') if isinstance(key, bytes) else key\n",
    "                if k_decoded.lower().startswith(\"cnt\"):\n",
    "                    cnt_key = k_decoded\n",
    "                    break\n",
    "            if cnt_key is None:\n",
    "                print(\"No valid cnt group key found.\")\n",
    "                return\n",
    "            print(\"Using cnt group key:\", cnt_key)\n",
    "            cnt_group = f[cnt_key]\n",
    "            print(\"Keys in cnt group:\", list(cnt_group.keys()))\n",
    "            analyze_group(cnt_group, label=\"cnt group\")\n",
    "    except Exception as e:\n",
    "        print(f\"Error loading cnt file {file_path}: {e}\")"
   ],
   "id": "a59fd882d2c919e9",
   "outputs": [],
   "execution_count": 5
  },
  {
   "metadata": {},
   "cell_type": "markdown",
   "source": "## 5. Analyze Edge cases",
   "id": "7e68f0ef7f070d01"
  },
  {
   "metadata": {
    "ExecuteTime": {
     "end_time": "2025-03-30T00:50:23.415973Z",
     "start_time": "2025-03-30T00:50:17.910985Z"
    }
   },
   "cell_type": "code",
   "source": [
    "# Define raw directories for Sub12 and Sub41\n",
    "raw_root = \"../data/raw/\"\n",
    "\n",
    "# For Sub12:\n",
    "sub12_eeg_folder = os.path.join(raw_root, \"Sub12\", \"EEG\")\n",
    "sub12_cnt_files = sorted([os.path.join(sub12_eeg_folder, f) for f in os.listdir(sub12_eeg_folder) if f.startswith(\"cnt\") and f.endswith(\".mat\")])\n",
    "sub12_mrk_files = sorted([os.path.join(sub12_eeg_folder, f) for f in os.listdir(sub12_eeg_folder) if f.startswith(\"mrk\") and f.endswith(\".mat\")])\n",
    "print(\"Sub12 cnt files:\", sub12_cnt_files)\n",
    "print(\"Sub12 mrk files:\", sub12_mrk_files)\n",
    "\n",
    "print(\"\\n--- Analyzing Sub12 cnt files ---\")\n",
    "for fpath in sub12_cnt_files:\n",
    "    analyze_cnt_file(fpath)\n",
    "\n",
    "print(\"\\n--- Analyzing Sub12 mrk files ---\")\n",
    "for fpath in sub12_mrk_files:\n",
    "    analyze_marker_file(fpath)"
   ],
   "id": "170d46c3bc75ec7a",
   "outputs": [
    {
     "name": "stdout",
     "output_type": "stream",
     "text": [
      "Sub12 cnt files: ['../data/raw/Sub12/EEG/cnt1.mat', '../data/raw/Sub12/EEG/cnt2.mat', '../data/raw/Sub12/EEG/cnt3.mat']\n",
      "Sub12 mrk files: ['../data/raw/Sub12/EEG/mrk1.mat', '../data/raw/Sub12/EEG/mrk2.mat', '../data/raw/Sub12/EEG/mrk3.mat']\n",
      "\n",
      "--- Analyzing Sub12 cnt files ---\n",
      "\n",
      "Analyzing cnt file: ../data/raw/Sub12/EEG/cnt1.mat\n",
      "Top-level keys: ['#refs#', 'cnt1']\n",
      "Using cnt group key: cnt1\n",
      "Keys in cnt group: ['EEG', 'Gender', 'HumanFactor', 'clab', 'fs']\n",
      "\n",
      "Detailed analysis for group cnt group:\n",
      "  Key: EEG | Type: <class 'h5py._hl.dataset.Dataset'> | Dtype: float64 | Shape: (116380, 63)\n",
      "    Data preview: [-3621.62890625 -5873.48339844  2845.75048828  4293.06396484\n",
      "  3119.28540039 -1651.90344238  -289.40414429 -5295.94433594\n",
      " 10431.29394531 -8624.89746094]\n",
      "  Key: Gender | Type: <class 'h5py._hl.dataset.Dataset'> | Dtype: uint16 | Shape: (3, 1)\n",
      "    Data preview: [77 65 78]\n",
      "  Key: HumanFactor | Type: <class 'h5py._hl.dataset.Dataset'> | Dtype: uint16 | Shape: (13, 1)\n",
      "    Data preview: [ 69  97 114 108 121  32  65 100 111 112]\n",
      "  Key: clab | Type: <class 'h5py._hl.dataset.Dataset'> | Dtype: object | Shape: (63, 1)\n",
      "    Data preview: [<HDF5 object reference> <HDF5 object reference> <HDF5 object reference>\n",
      " <HDF5 object reference> <HDF5 object reference> <HDF5 object reference>\n",
      " <HDF5 object reference> <HDF5 object reference> <HDF5 object reference>\n",
      " <HDF5 object reference>]\n",
      "  Key: fs | Type: <class 'h5py._hl.dataset.Dataset'> | Dtype: float64 | Shape: (1, 1)\n",
      "    Data preview: [1000.]\n",
      "\n",
      "Analyzing cnt file: ../data/raw/Sub12/EEG/cnt2.mat\n",
      "Top-level keys: ['#refs#', 'cnt2']\n",
      "Using cnt group key: cnt2\n",
      "Keys in cnt group: ['EEG', 'Gender', 'HumanFactor', 'clab', 'fs']\n",
      "\n",
      "Detailed analysis for group cnt group:\n",
      "  Key: EEG | Type: <class 'h5py._hl.dataset.Dataset'> | Dtype: float64 | Shape: (1622080, 63)\n",
      "    Data preview: [-5450.04589844 -6528.51220703  2299.85229492  3804.34375\n",
      "  2253.80737305 -3280.27172852   -80.41988373 -4778.80615234\n",
      "  9829.87792969 -9504.14550781]\n",
      "  Key: Gender | Type: <class 'h5py._hl.dataset.Dataset'> | Dtype: uint16 | Shape: (3, 1)\n",
      "    Data preview: [77 65 78]\n",
      "  Key: HumanFactor | Type: <class 'h5py._hl.dataset.Dataset'> | Dtype: uint16 | Shape: (13, 1)\n",
      "    Data preview: [ 69  97 114 108 121  32  65 100 111 112]\n",
      "  Key: clab | Type: <class 'h5py._hl.dataset.Dataset'> | Dtype: object | Shape: (63, 1)\n",
      "    Data preview: [<HDF5 object reference> <HDF5 object reference> <HDF5 object reference>\n",
      " <HDF5 object reference> <HDF5 object reference> <HDF5 object reference>\n",
      " <HDF5 object reference> <HDF5 object reference> <HDF5 object reference>\n",
      " <HDF5 object reference>]\n",
      "  Key: fs | Type: <class 'h5py._hl.dataset.Dataset'> | Dtype: float64 | Shape: (1, 1)\n",
      "    Data preview: [1000.]\n",
      "\n",
      "Analyzing cnt file: ../data/raw/Sub12/EEG/cnt3.mat\n",
      "Top-level keys: ['#refs#', 'cnt3']\n",
      "Using cnt group key: cnt3\n",
      "Keys in cnt group: ['EEG', 'Gender', 'HumanFactor', 'clab', 'fs']\n",
      "\n",
      "Detailed analysis for group cnt group:\n",
      "  Key: EEG | Type: <class 'h5py._hl.dataset.Dataset'> | Dtype: float64 | Shape: (2346120, 63)\n",
      "    Data preview: [ -9382.80761719  -8882.12402344  -1632.86047363   -737.20666504\n",
      "  -1126.95251465  -6014.79199219   1144.77478027  -2192.23510742\n",
      "   5606.19824219 -21666.98046875]\n",
      "  Key: Gender | Type: <class 'h5py._hl.dataset.Dataset'> | Dtype: uint16 | Shape: (3, 1)\n",
      "    Data preview: [77 65 78]\n",
      "  Key: HumanFactor | Type: <class 'h5py._hl.dataset.Dataset'> | Dtype: uint16 | Shape: (13, 1)\n",
      "    Data preview: [ 69  97 114 108 121  32  65 100 111 112]\n",
      "  Key: clab | Type: <class 'h5py._hl.dataset.Dataset'> | Dtype: object | Shape: (63, 1)\n",
      "    Data preview: [<HDF5 object reference> <HDF5 object reference> <HDF5 object reference>\n",
      " <HDF5 object reference> <HDF5 object reference> <HDF5 object reference>\n",
      " <HDF5 object reference> <HDF5 object reference> <HDF5 object reference>\n",
      " <HDF5 object reference>]\n",
      "  Key: fs | Type: <class 'h5py._hl.dataset.Dataset'> | Dtype: float64 | Shape: (1, 1)\n",
      "    Data preview: [1000.]\n",
      "\n",
      "--- Analyzing Sub12 mrk files ---\n",
      "\n",
      "Analyzing marker file: ../data/raw/Sub12/EEG/mrk1.mat\n",
      "Top-level keys: ['#refs#', 'mrk1']\n",
      "Using marker group key: mrk1\n",
      "Keys in marker group: ['className', 'event', 'time', 'y']\n",
      "\n",
      "Detailed analysis for group marker group:\n",
      "  Key: className | Type: <class 'h5py._hl.dataset.Dataset'> | Dtype: object | Shape: (2, 1)\n",
      "    Data preview: [<HDF5 object reference> <HDF5 object reference>]\n",
      "  Key: event | Type: <class 'h5py._hl.group.Group'> | Dtype: N/A | Shape: N/A\n",
      "    Error retrieving data: Accessing a group is done with bytes or str, not <class 'tuple'>\n",
      "  Key: time | Type: <class 'h5py._hl.dataset.Dataset'> | Dtype: float64 | Shape: (2, 1)\n",
      "    Data preview: [46320. 47719.]\n",
      "  Key: y | Type: <class 'h5py._hl.dataset.Dataset'> | Dtype: float64 | Shape: (2, 2)\n",
      "    Data preview: [1. 0. 0. 1.]\n",
      "\n",
      "Analysis of 'event' key:\n",
      "Type of 'event' object: <class 'h5py._hl.group.Group'>\n",
      "\n",
      "Detailed analysis for group 'event' group:\n",
      "  Key: chan | Type: <class 'h5py._hl.dataset.Dataset'> | Dtype: float64 | Shape: (1, 2)\n",
      "    Data preview: [0. 0.]\n",
      "  Key: desc | Type: <class 'h5py._hl.dataset.Dataset'> | Dtype: float64 | Shape: (1, 2)\n",
      "    Data preview: [1. 2.]\n",
      "  Key: length | Type: <class 'h5py._hl.dataset.Dataset'> | Dtype: float64 | Shape: (1, 2)\n",
      "    Data preview: [0.2 0.2]\n",
      "  Key: type | Type: <class 'h5py._hl.dataset.Dataset'> | Dtype: object | Shape: (1, 2)\n",
      "    Data preview: [<HDF5 object reference> <HDF5 object reference>]\n",
      "\n",
      "Analyzing marker file: ../data/raw/Sub12/EEG/mrk2.mat\n",
      "Top-level keys: ['#refs#', 'mrk2']\n",
      "Using marker group key: mrk2\n",
      "Keys in marker group: ['className', 'event', 'time', 'y']\n",
      "\n",
      "Detailed analysis for group marker group:\n",
      "  Key: className | Type: <class 'h5py._hl.dataset.Dataset'> | Dtype: object | Shape: (2, 1)\n",
      "    Data preview: [<HDF5 object reference> <HDF5 object reference>]\n",
      "  Key: event | Type: <class 'h5py._hl.group.Group'> | Dtype: N/A | Shape: N/A\n",
      "    Error retrieving data: Accessing a group is done with bytes or str, not <class 'tuple'>\n",
      "  Key: time | Type: <class 'h5py._hl.dataset.Dataset'> | Dtype: float64 | Shape: (62, 1)\n",
      "    Data preview: [ 42128.  43212.  94112.  95514. 148084. 151734. 197426. 203086. 248911.\n",
      " 251949.]\n",
      "  Key: y | Type: <class 'h5py._hl.dataset.Dataset'> | Dtype: float64 | Shape: (62, 2)\n",
      "    Data preview: [1. 0. 0. 1. 1. 0. 0. 1. 1. 0.]\n",
      "\n",
      "Analysis of 'event' key:\n",
      "Type of 'event' object: <class 'h5py._hl.group.Group'>\n",
      "\n",
      "Detailed analysis for group 'event' group:\n",
      "  Key: chan | Type: <class 'h5py._hl.dataset.Dataset'> | Dtype: float64 | Shape: (1, 62)\n",
      "    Data preview: [0. 0. 0. 0. 0. 0. 0. 0. 0. 0.]\n",
      "  Key: desc | Type: <class 'h5py._hl.dataset.Dataset'> | Dtype: float64 | Shape: (1, 62)\n",
      "    Data preview: [1. 2. 1. 2. 1. 2. 1. 2. 1. 2.]\n",
      "  Key: length | Type: <class 'h5py._hl.dataset.Dataset'> | Dtype: float64 | Shape: (1, 62)\n",
      "    Data preview: [0.2 0.2 0.2 0.2 0.2 0.2 0.2 0.2 0.2 0.2]\n",
      "  Key: type | Type: <class 'h5py._hl.dataset.Dataset'> | Dtype: object | Shape: (1, 62)\n",
      "    Data preview: [<HDF5 object reference> <HDF5 object reference> <HDF5 object reference>\n",
      " <HDF5 object reference> <HDF5 object reference> <HDF5 object reference>\n",
      " <HDF5 object reference> <HDF5 object reference> <HDF5 object reference>\n",
      " <HDF5 object reference>]\n",
      "\n",
      "Analyzing marker file: ../data/raw/Sub12/EEG/mrk3.mat\n",
      "Top-level keys: ['#refs#', 'mrk3']\n",
      "Using marker group key: mrk3\n",
      "Keys in marker group: ['className', 'event', 'time', 'y']\n",
      "\n",
      "Detailed analysis for group marker group:\n",
      "  Key: className | Type: <class 'h5py._hl.dataset.Dataset'> | Dtype: object | Shape: (2, 1)\n",
      "    Data preview: [<HDF5 object reference> <HDF5 object reference>]\n",
      "  Key: event | Type: <class 'h5py._hl.group.Group'> | Dtype: N/A | Shape: N/A\n",
      "    Error retrieving data: Accessing a group is done with bytes or str, not <class 'tuple'>\n",
      "  Key: time | Type: <class 'h5py._hl.dataset.Dataset'> | Dtype: float64 | Shape: (96, 1)\n",
      "    Data preview: [ 29735.  36885.  81824.  83022. 124166. 130374. 174558. 178756. 224832.\n",
      " 227155.]\n",
      "  Key: y | Type: <class 'h5py._hl.dataset.Dataset'> | Dtype: float64 | Shape: (96, 2)\n",
      "    Data preview: [1. 0. 0. 1. 1. 0. 0. 1. 1. 0.]\n",
      "\n",
      "Analysis of 'event' key:\n",
      "Type of 'event' object: <class 'h5py._hl.group.Group'>\n",
      "\n",
      "Detailed analysis for group 'event' group:\n",
      "  Key: chan | Type: <class 'h5py._hl.dataset.Dataset'> | Dtype: float64 | Shape: (1, 96)\n",
      "    Data preview: [0. 0. 0. 0. 0. 0. 0. 0. 0. 0.]\n",
      "  Key: desc | Type: <class 'h5py._hl.dataset.Dataset'> | Dtype: float64 | Shape: (1, 96)\n",
      "    Data preview: [1. 2. 1. 2. 1. 2. 1. 2. 1. 2.]\n",
      "  Key: length | Type: <class 'h5py._hl.dataset.Dataset'> | Dtype: float64 | Shape: (1, 96)\n",
      "    Data preview: [0.2 0.2 0.2 0.2 0.2 0.2 0.2 0.2 0.2 0.2]\n",
      "  Key: type | Type: <class 'h5py._hl.dataset.Dataset'> | Dtype: object | Shape: (1, 96)\n",
      "    Data preview: [<HDF5 object reference> <HDF5 object reference> <HDF5 object reference>\n",
      " <HDF5 object reference> <HDF5 object reference> <HDF5 object reference>\n",
      " <HDF5 object reference> <HDF5 object reference> <HDF5 object reference>\n",
      " <HDF5 object reference>]\n"
     ]
    }
   ],
   "execution_count": 6
  },
  {
   "metadata": {
    "ExecuteTime": {
     "end_time": "2025-03-30T00:50:27.462103Z",
     "start_time": "2025-03-30T00:50:23.422727Z"
    }
   },
   "cell_type": "code",
   "source": [
    "# For Sub41:\n",
    "sub41_eeg_folder = os.path.join(raw_root, \"Sub41\", \"EEG\")\n",
    "sub41_cnt_file = os.path.join(sub41_eeg_folder, \"cnt.mat\")\n",
    "sub41_mrk_file = os.path.join(sub41_eeg_folder, \"mrk.mat\")\n",
    "print(\"\\nSub41 cnt file exists:\", os.path.exists(sub41_cnt_file))\n",
    "print(\"Sub41 mrk file exists:\", os.path.exists(sub41_mrk_file))\n",
    "\n",
    "print(\"\\n--- Analyzing Sub41 cnt.mat ---\")\n",
    "analyze_cnt_file(sub41_cnt_file)\n",
    "\n",
    "print(\"\\n--- Analyzing Sub41 mrk.mat ---\")\n",
    "analyze_marker_file(sub41_mrk_file)"
   ],
   "id": "efb3d2c37050e768",
   "outputs": [
    {
     "name": "stdout",
     "output_type": "stream",
     "text": [
      "\n",
      "Sub41 cnt file exists: True\n",
      "Sub41 mrk file exists: True\n",
      "\n",
      "--- Analyzing Sub41 cnt.mat ---\n",
      "\n",
      "Analyzing cnt file: ../data/raw/Sub41/EEG/cnt.mat\n",
      "Top-level keys: ['#refs#', 'cnt']\n",
      "Using cnt group key: cnt\n",
      "Keys in cnt group: ['EEG', 'Gender', 'HumanFactor', 'clab', 'fs']\n",
      "\n",
      "Detailed analysis for group cnt group:\n",
      "  Key: EEG | Type: <class 'h5py._hl.dataset.Dataset'> | Dtype: float64 | Shape: (2955500, 63)\n",
      "    Data preview: [  2356.98120117  -3928.66015625   3987.7421875    4123.6796875\n",
      "  -6991.93994141  12704.97363281  -1935.49707031   1041.21044922\n",
      " -12767.52246094 -20842.12890625]\n",
      "  Key: Gender | Type: <class 'h5py._hl.dataset.Dataset'> | Dtype: uint16 | Shape: (5, 1)\n",
      "    Data preview: [87 79 77 65 78]\n",
      "  Key: HumanFactor | Type: <class 'h5py._hl.dataset.Dataset'> | Dtype: uint16 | Shape: (13, 1)\n",
      "    Data preview: [ 69  97 114 108 121  32  65 100 111 112]\n",
      "  Key: clab | Type: <class 'h5py._hl.dataset.Dataset'> | Dtype: object | Shape: (63, 1)\n",
      "    Data preview: [<HDF5 object reference> <HDF5 object reference> <HDF5 object reference>\n",
      " <HDF5 object reference> <HDF5 object reference> <HDF5 object reference>\n",
      " <HDF5 object reference> <HDF5 object reference> <HDF5 object reference>\n",
      " <HDF5 object reference>]\n",
      "  Key: fs | Type: <class 'h5py._hl.dataset.Dataset'> | Dtype: float64 | Shape: (1, 1)\n",
      "    Data preview: [1000.]\n",
      "\n",
      "--- Analyzing Sub41 mrk.mat ---\n",
      "\n",
      "Analyzing marker file: ../data/raw/Sub41/EEG/mrk.mat\n",
      "Top-level keys: ['#refs#', 'mrk']\n",
      "Using marker group key: mrk\n",
      "Keys in marker group: ['className', 'event', 'time', 'y']\n",
      "\n",
      "Detailed analysis for group marker group:\n",
      "  Key: className | Type: <class 'h5py._hl.dataset.Dataset'> | Dtype: object | Shape: (2, 1)\n",
      "    Data preview: [<HDF5 object reference> <HDF5 object reference>]\n",
      "  Key: event | Type: <class 'h5py._hl.group.Group'> | Dtype: N/A | Shape: N/A\n",
      "    Error retrieving data: Accessing a group is done with bytes or str, not <class 'tuple'>\n",
      "  Key: time | Type: <class 'h5py._hl.dataset.Dataset'> | Dtype: float64 | Shape: (160, 1)\n",
      "    Data preview: [ 57453.  58849. 102531. 103616. 143886. 145289. 186291. 189942. 230132.\n",
      " 235793.]\n",
      "  Key: y | Type: <class 'h5py._hl.dataset.Dataset'> | Dtype: float64 | Shape: (160, 2)\n",
      "    Data preview: [1. 0. 0. 1. 1. 0. 0. 1. 1. 0.]\n",
      "\n",
      "Analysis of 'event' key:\n",
      "Type of 'event' object: <class 'h5py._hl.group.Group'>\n",
      "\n",
      "Detailed analysis for group 'event' group:\n",
      "  Key: chan | Type: <class 'h5py._hl.dataset.Dataset'> | Dtype: float64 | Shape: (1, 160)\n",
      "    Data preview: [0. 0. 0. 0. 0. 0. 0. 0. 0. 0.]\n",
      "  Key: desc | Type: <class 'h5py._hl.dataset.Dataset'> | Dtype: float64 | Shape: (1, 160)\n",
      "    Data preview: [1. 2. 1. 2. 1. 2. 1. 2. 1. 2.]\n",
      "  Key: length | Type: <class 'h5py._hl.dataset.Dataset'> | Dtype: float64 | Shape: (1, 160)\n",
      "    Data preview: [0.2 0.2 0.2 0.2 0.2 0.2 0.2 0.2 0.2 0.2]\n",
      "  Key: type | Type: <class 'h5py._hl.dataset.Dataset'> | Dtype: object | Shape: (1, 160)\n",
      "    Data preview: [<HDF5 object reference> <HDF5 object reference> <HDF5 object reference>\n",
      " <HDF5 object reference> <HDF5 object reference> <HDF5 object reference>\n",
      " <HDF5 object reference> <HDF5 object reference> <HDF5 object reference>\n",
      " <HDF5 object reference>]\n"
     ]
    }
   ],
   "execution_count": 7
  },
  {
   "metadata": {
    "ExecuteTime": {
     "end_time": "2025-03-30T00:51:22.115759Z",
     "start_time": "2025-03-30T00:51:22.109793Z"
    }
   },
   "cell_type": "code",
   "source": [
    "# for bad channel analysis of subject 37\n",
    "\n",
    "raw_file_path = \"../data/preprocessed/Sub37/preprocessed_epochs-epo.fif\"  # or another Raw file if available\n",
    "try:\n",
    "    raw_sub37 = mne.io.read_raw_fif(raw_file_path, preload=True)\n",
    "    print(\"Loaded Sub37 raw object with shape:\", raw_sub37.get_data().shape)\n",
    "except Exception as e:\n",
    "    print(\"Error loading Sub37 raw object:\", e)\n",
    "\n",
    "# Now, try running find_bad_channels_maxwell and catch the error.\n",
    "try:\n",
    "    bads = mne.preprocessing.find_bad_channels_maxwell(raw_sub37)\n",
    "    print(\"Bad channels found:\", bads)\n",
    "except Exception as e:\n",
    "    print(\"Caught error in find_bad_channels_maxwell:\", e)"
   ],
   "id": "722715a16fd8faa3",
   "outputs": [
    {
     "name": "stdout",
     "output_type": "stream",
     "text": [
      "Opening raw data file ../data/preprocessed/Sub37/preprocessed_epochs-epo.fif...\n",
      "Isotrak not found\n",
      "Error loading Sub37 raw object: No raw data in /Users/rahul/PycharmProjects/Semester 5/gnn-project/exploratory notebooks/../data/preprocessed/Sub37/preprocessed_epochs-epo.fif\n",
      "Caught error in find_bad_channels_maxwell: name 'raw_sub37' is not defined\n"
     ]
    },
    {
     "name": "stderr",
     "output_type": "stream",
     "text": [
      "/var/folders/3j/w0qrc74d6sj7fjdwc593xcqc0000gn/T/ipykernel_7556/2657236258.py:5: RuntimeWarning: This filename (../data/preprocessed/Sub37/preprocessed_epochs-epo.fif) does not conform to MNE naming conventions. All raw files should end with raw.fif, raw_sss.fif, raw_tsss.fif, _meg.fif, _eeg.fif, _ieeg.fif, raw.fif.gz, raw_sss.fif.gz, raw_tsss.fif.gz, _meg.fif.gz, _eeg.fif.gz or _ieeg.fif.gz\n",
      "  raw_sub37 = mne.io.read_raw_fif(raw_file_path, preload=True)\n"
     ]
    }
   ],
   "execution_count": 9
  },
  {
   "metadata": {
    "ExecuteTime": {
     "end_time": "2025-03-30T00:53:57.603269Z",
     "start_time": "2025-03-30T00:53:57.595033Z"
    }
   },
   "cell_type": "code",
   "source": [
    "import os\n",
    "import shutil\n",
    "import mne\n",
    "\n",
    "# Define file paths\n",
    "old_file = \"../data/preprocessed/Sub37/preprocessed_epochs-epo.fif\"\n",
    "new_file = \"../data/preprocessed/Sub37/Sub37_raw.fif\"\n",
    "\n",
    "# Check if the old file exists\n",
    "if os.path.exists(old_file):\n",
    "    print(\"Old file exists. Attempting to copy to a new conforming filename...\")\n",
    "    try:\n",
    "        shutil.copy(old_file, new_file)\n",
    "        print(f\"File successfully copied to {new_file}\")\n",
    "    except Exception as e:\n",
    "        print(\"Error copying file:\", e)\n",
    "else:\n",
    "    print(\"Old file does not exist. Please verify your file paths.\")\n",
    "\n",
    "# Try to load the new file with MNE\n",
    "try:\n",
    "    raw_sub37 = mne.io.read_raw_fif(new_file, preload=True)\n",
    "    print(\"Loaded Sub37 raw object successfully.\")\n",
    "    print(\"Raw data shape:\", raw_sub37.get_data().shape)\n",
    "except Exception as e:\n",
    "    print(\"Error loading Sub37 raw object from new file:\", e)"
   ],
   "id": "70a29d6353be7f68",
   "outputs": [
    {
     "name": "stdout",
     "output_type": "stream",
     "text": [
      "Old file exists. Attempting to copy to a new conforming filename...\n",
      "File successfully copied to ../data/preprocessed/Sub37/Sub37_raw.fif\n",
      "Opening raw data file ../data/preprocessed/Sub37/Sub37_raw.fif...\n",
      "Isotrak not found\n",
      "Error loading Sub37 raw object from new file: No raw data in /Users/rahul/PycharmProjects/Semester 5/gnn-project/exploratory notebooks/../data/preprocessed/Sub37/Sub37_raw.fif\n"
     ]
    }
   ],
   "execution_count": 10
  },
  {
   "metadata": {
    "ExecuteTime": {
     "end_time": "2025-03-30T00:55:03.335583Z",
     "start_time": "2025-03-30T00:55:03.315372Z"
    }
   },
   "cell_type": "code",
   "source": [
    "epochs_sub37 = mne.read_epochs(\"../data/preprocessed/Sub37/preprocessed_epochs-epo.fif\", preload=True)\n",
    "print(\"Loaded epochs with shape:\", epochs_sub37.get_data().shape)"
   ],
   "id": "5c0496d3276ff9b8",
   "outputs": [
    {
     "name": "stdout",
     "output_type": "stream",
     "text": [
      "Reading /Users/rahul/PycharmProjects/Semester 5/gnn-project/exploratory notebooks/../data/preprocessed/Sub37/preprocessed_epochs-epo.fif ...\n",
      "Isotrak not found\n",
      "    Found the data of interest:\n",
      "        t =       0.00 ...    5000.00 ms\n",
      "        0 CTF compensation matrices available\n",
      "Not setting metadata\n",
      "22 matching events found\n",
      "No baseline correction applied\n",
      "0 projection items activated\n",
      "Loaded epochs with shape: (22, 63, 1001)\n"
     ]
    }
   ],
   "execution_count": 11
  },
  {
   "metadata": {},
   "cell_type": "code",
   "outputs": [],
   "execution_count": null,
   "source": "",
   "id": "64692b436346dfbb"
  }
 ],
 "metadata": {
  "kernelspec": {
   "display_name": "Python 3",
   "language": "python",
   "name": "python3"
  },
  "language_info": {
   "codemirror_mode": {
    "name": "ipython",
    "version": 2
   },
   "file_extension": ".py",
   "mimetype": "text/x-python",
   "name": "python",
   "nbconvert_exporter": "python",
   "pygments_lexer": "ipython2",
   "version": "2.7.6"
  }
 },
 "nbformat": 4,
 "nbformat_minor": 5
}
