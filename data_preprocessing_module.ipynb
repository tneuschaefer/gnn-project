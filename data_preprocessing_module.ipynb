{
 "cells": [
  {
   "metadata": {},
   "cell_type": "markdown",
   "source": [
    "# Data Preprocessing\n",
    "\n",
    "This notebook is for data acquisition(conversion to MNE) and preprocessing the data with basic steps as follows:\n",
    "1. Data Aquisition\n",
    "2. Exploratory analysis\n",
    "3. Preprocessing\n",
    "    - Filtering\n",
    "    - Artifact Removal\n",
    "    - Epoching\n",
    "    - Normalisation\n",
    "4. Optimizations"
   ],
   "id": "c6f933f7a3bbe8e4"
  },
  {
   "cell_type": "code",
   "id": "initial_id",
   "metadata": {
    "collapsed": true,
    "ExecuteTime": {
     "end_time": "2025-03-26T01:46:49.547376Z",
     "start_time": "2025-03-26T01:46:49.328571Z"
    }
   },
   "source": [
    "import os\n",
    "import numpy as np\n",
    "import matplotlib.pyplot as plt\n",
    "import mne\n",
    "\n",
    "# For loading .mat files\n",
    "import scipy.io as sio\n",
    "import h5py\n",
    "\n",
    "# For artifact removal\n",
    "from mne.preprocessing import ICA\n",
    "\n",
    "# For visualising\n",
    "import matplotlib.pyplot as plt\n",
    "%matplotlib inline\n",
    "import seaborn as sns\n",
    "\n",
    "# Set aesthetic style for plots\n",
    "sns.set(style=\"whitegrid\", palette=\"viridis\", font_scale=1.2)\n",
    "\n",
    "# Check basic system details to monitor resource usage\n",
    "import platform\n",
    "print(\"Running on:\", platform.platform())"
   ],
   "outputs": [
    {
     "name": "stdout",
     "output_type": "stream",
     "text": [
      "Running on: macOS-15.3.2-arm64-arm-64bit\n"
     ]
    }
   ],
   "execution_count": 5
  },
  {
   "metadata": {},
   "cell_type": "markdown",
   "source": "### Folder structure and file paths",
   "id": "d17797bbfe552e7b"
  },
  {
   "metadata": {
    "ExecuteTime": {
     "end_time": "2025-03-26T01:43:38.655836Z",
     "start_time": "2025-03-26T01:43:38.653028Z"
    }
   },
   "cell_type": "code",
   "source": [
    "subject_id = 2\n",
    "data_root = \"./data/raw/\"\n",
    "subject_folder = f\"Sub{subject_id}\"\n",
    "eeg_folder = os.path.join(data_root, subject_folder, \"EEG\")\n",
    "\n",
    "cnt_file = os.path.join(eeg_folder, \"cnt.mat\")\n",
    "mrk_file = os.path.join(eeg_folder, \"mrk.mat\")\n",
    "\n",
    "# Check existence\n",
    "if not os.path.exists(cnt_file):\n",
    "    raise FileNotFoundError(f\"Cannot find {cnt_file}. Please check your dataset path.\")\n",
    "if not os.path.exists(mrk_file):\n",
    "    raise FileNotFoundError(f\"Cannot find {mrk_file}. Please check your dataset path.\")"
   ],
   "id": "91edcf989f6c14c5",
   "outputs": [],
   "execution_count": 3
  },
  {
   "metadata": {},
   "cell_type": "markdown",
   "source": [
    "### Loading the mat files\n",
    "\n",
    "loading data and extracting the following\n",
    "- EEG data array\n",
    "- sampling frequency\n",
    "- channel names\n",
    "- event information from mrk.mat files"
   ],
   "id": "d3e1c7358c1186af"
  },
  {
   "metadata": {
    "ExecuteTime": {
     "end_time": "2025-03-26T01:51:03.044893Z",
     "start_time": "2025-03-26T01:51:03.035021Z"
    }
   },
   "cell_type": "code",
   "source": [
    "try:\n",
    "    cnt_mat = sio.loadmat(cnt_file, struct_as_record=False, squeeze_me=True)\n",
    "    mrk_mat = sio.loadmat(mrk_file, struct_as_record=False, squeeze_me=True)\n",
    "    print(\"Loaded CNT file with sio\")\n",
    "except NotImplementedError:\n",
    "    try:\n",
    "        cnt_mat = h5py.File(cnt_file, mode=\"r\")\n",
    "        mrk_mat = h5py.File(mrk_file, mode=\"r\")\n",
    "        print(\"Files loaded successfully with h5py\")\n",
    "    except Exception as e:\n",
    "        print(f\"Error loading files: {e}\")\n",
    "\n",
    "\n",
    "# Inspect top-level keys (sometimes the actual data is nested deeper)\n",
    "print(\"CNT.mat keys:\", cnt_mat.keys())\n",
    "print(\"MRK.mat keys:\", mrk_mat.keys())"
   ],
   "id": "39fcbed11b31b530",
   "outputs": [
    {
     "name": "stdout",
     "output_type": "stream",
     "text": [
      "Files loaded successfully with h5py\n",
      "CNT.mat keys: <KeysViewHDF5 ['#refs#', 'cnt']>\n",
      "MRK.mat keys: <KeysViewHDF5 ['#refs#', 'mrk']>\n"
     ]
    }
   ],
   "execution_count": 6
  },
  {
   "metadata": {
    "ExecuteTime": {
     "end_time": "2025-03-26T01:54:51.836598Z",
     "start_time": "2025-03-26T01:54:51.833422Z"
    }
   },
   "cell_type": "code",
   "source": "print(cnt_mat[\"cnt\"].keys())",
   "id": "a4e2177b6c83d924",
   "outputs": [
    {
     "name": "stdout",
     "output_type": "stream",
     "text": [
      "<KeysViewHDF5 ['EEG', 'Gender', 'HumanFactor', 'clab', 'fs']>\n"
     ]
    }
   ],
   "execution_count": 13
  },
  {
   "metadata": {
    "ExecuteTime": {
     "end_time": "2025-03-26T01:53:56.862094Z",
     "start_time": "2025-03-26T01:53:56.858956Z"
    }
   },
   "cell_type": "code",
   "source": "print(mrk_mat[\"mrk\"].keys())",
   "id": "2bb267cf2c92eda7",
   "outputs": [
    {
     "name": "stdout",
     "output_type": "stream",
     "text": [
      "<KeysViewHDF5 ['className', 'event', 'time', 'y']>\n"
     ]
    }
   ],
   "execution_count": 11
  },
  {
   "metadata": {
    "ExecuteTime": {
     "end_time": "2025-03-26T02:01:56.024978Z",
     "start_time": "2025-03-26T02:01:50.335331Z"
    }
   },
   "cell_type": "code",
   "source": [
    "# Extracting data from cnt.mat\n",
    "eeg_data = np.array(cnt_mat[\"cnt\"][\"EEG\"][()])\n",
    "fs = np.array(cnt_mat[\"cnt\"][\"fs\"][()]).item()  # Convert to a Python scalar\n",
    "clab = np.array(cnt_mat[\"cnt\"][\"clab\"][()])"
   ],
   "id": "21f97f457844d639",
   "outputs": [],
   "execution_count": 14
  },
  {
   "metadata": {
    "ExecuteTime": {
     "end_time": "2025-03-26T02:01:59.158194Z",
     "start_time": "2025-03-26T02:01:59.154641Z"
    }
   },
   "cell_type": "code",
   "source": [
    "# Decode channel labels if they're stored as bytes\n",
    "if clab.dtype.kind == 'S':\n",
    "    clab = [s.decode('utf-8') for s in clab]\n",
    "else:\n",
    "    clab = list(clab)\n",
    "\n",
    "print(\"EEG data shape:\", eeg_data.shape)\n",
    "print(\"Sampling frequency:\", fs)\n",
    "print(\"Channel labels:\", clab)"
   ],
   "id": "919457f2a944fa3a",
   "outputs": [
    {
     "name": "stdout",
     "output_type": "stream",
     "text": [
      "EEG data shape: (3691800, 63)\n",
      "Sampling frequency: 1000.0\n",
      "Channel labels: [array([<HDF5 object reference>], dtype=object), array([<HDF5 object reference>], dtype=object), array([<HDF5 object reference>], dtype=object), array([<HDF5 object reference>], dtype=object), array([<HDF5 object reference>], dtype=object), array([<HDF5 object reference>], dtype=object), array([<HDF5 object reference>], dtype=object), array([<HDF5 object reference>], dtype=object), array([<HDF5 object reference>], dtype=object), array([<HDF5 object reference>], dtype=object), array([<HDF5 object reference>], dtype=object), array([<HDF5 object reference>], dtype=object), array([<HDF5 object reference>], dtype=object), array([<HDF5 object reference>], dtype=object), array([<HDF5 object reference>], dtype=object), array([<HDF5 object reference>], dtype=object), array([<HDF5 object reference>], dtype=object), array([<HDF5 object reference>], dtype=object), array([<HDF5 object reference>], dtype=object), array([<HDF5 object reference>], dtype=object), array([<HDF5 object reference>], dtype=object), array([<HDF5 object reference>], dtype=object), array([<HDF5 object reference>], dtype=object), array([<HDF5 object reference>], dtype=object), array([<HDF5 object reference>], dtype=object), array([<HDF5 object reference>], dtype=object), array([<HDF5 object reference>], dtype=object), array([<HDF5 object reference>], dtype=object), array([<HDF5 object reference>], dtype=object), array([<HDF5 object reference>], dtype=object), array([<HDF5 object reference>], dtype=object), array([<HDF5 object reference>], dtype=object), array([<HDF5 object reference>], dtype=object), array([<HDF5 object reference>], dtype=object), array([<HDF5 object reference>], dtype=object), array([<HDF5 object reference>], dtype=object), array([<HDF5 object reference>], dtype=object), array([<HDF5 object reference>], dtype=object), array([<HDF5 object reference>], dtype=object), array([<HDF5 object reference>], dtype=object), array([<HDF5 object reference>], dtype=object), array([<HDF5 object reference>], dtype=object), array([<HDF5 object reference>], dtype=object), array([<HDF5 object reference>], dtype=object), array([<HDF5 object reference>], dtype=object), array([<HDF5 object reference>], dtype=object), array([<HDF5 object reference>], dtype=object), array([<HDF5 object reference>], dtype=object), array([<HDF5 object reference>], dtype=object), array([<HDF5 object reference>], dtype=object), array([<HDF5 object reference>], dtype=object), array([<HDF5 object reference>], dtype=object), array([<HDF5 object reference>], dtype=object), array([<HDF5 object reference>], dtype=object), array([<HDF5 object reference>], dtype=object), array([<HDF5 object reference>], dtype=object), array([<HDF5 object reference>], dtype=object), array([<HDF5 object reference>], dtype=object), array([<HDF5 object reference>], dtype=object), array([<HDF5 object reference>], dtype=object), array([<HDF5 object reference>], dtype=object), array([<HDF5 object reference>], dtype=object), array([<HDF5 object reference>], dtype=object)]\n"
     ]
    }
   ],
   "execution_count": 15
  },
  {
   "metadata": {
    "ExecuteTime": {
     "end_time": "2025-03-26T02:05:05.554571Z",
     "start_time": "2025-03-26T02:05:05.547920Z"
    }
   },
   "cell_type": "code",
   "source": [
    "# Extracting marker information from mrk.mat\n",
    "mrk_time = np.array(mrk_mat[\"mrk\"][\"time\"][()])\n",
    "mrk_y = np.array(mrk_mat[\"mrk\"][\"y\"][()])\n",
    "# mrk_event = np.array(mrk_mat[\"mrk\"][\"event\"][()])\n",
    "# because the above shows an error for the group\n",
    "event_field = mrk_mat[\"mrk\"][\"event\"]\n",
    "if isinstance(event_field, h5py.Dataset):\n",
    "    mrk_event = np.array(event_field[()])\n",
    "elif isinstance(event_field, h5py.Group):\n",
    "    # Inspect the group keys to decide what to extract\n",
    "    event_keys = list(event_field.keys())\n",
    "    print(\"Event group keys:\", event_keys)\n",
    "    # If there's only one key, we assume that's our data.\n",
    "    if len(event_keys) == 1:\n",
    "        mrk_event = np.array(event_field[event_keys[0]][()])\n",
    "    else:\n",
    "        # Otherwise, choose a key or combine data as needed.\n",
    "        # For now, we select the first key.\n",
    "        mrk_event = np.array(event_field[event_keys[0]][()])\n",
    "else:\n",
    "    mrk_event = None"
   ],
   "id": "94dac0b0e9ebb30d",
   "outputs": [
    {
     "name": "stdout",
     "output_type": "stream",
     "text": [
      "Event group keys: ['chan', 'desc', 'length', 'type']\n"
     ]
    }
   ],
   "execution_count": 19
  },
  {
   "metadata": {
    "ExecuteTime": {
     "end_time": "2025-03-26T02:05:37.067818Z",
     "start_time": "2025-03-26T02:05:37.064529Z"
    }
   },
   "cell_type": "code",
   "source": [
    "# Extracting classname info\n",
    "\n",
    "mrk_className = np.array(mrk_mat[\"mrk\"][\"className\"][()])\n",
    "if mrk_className.dtype.kind == 'S':\n",
    "    mrk_className = [s.decode('utf-8') for s in mrk_className]\n",
    "else:\n",
    "    mrk_className = list(mrk_className)\n",
    "\n",
    "print(\"Marker times shape:\", mrk_time.shape)\n",
    "print(\"Marker y shape:\", mrk_y.shape)\n",
    "if mrk_event is not None:\n",
    "    print(\"Marker event shape:\", mrk_event.shape)\n",
    "print(\"Marker class names:\", mrk_className)"
   ],
   "id": "b628e8ddb2f049fa",
   "outputs": [
    {
     "name": "stdout",
     "output_type": "stream",
     "text": [
      "Marker times shape: (160, 1)\n",
      "Marker y shape: (160, 2)\n",
      "Marker event shape: (1, 160)\n",
      "Marker class names: [array([<HDF5 object reference>], dtype=object), array([<HDF5 object reference>], dtype=object)]\n"
     ]
    }
   ],
   "execution_count": 20
  },
  {
   "metadata": {
    "ExecuteTime": {
     "end_time": "2025-03-26T02:08:00.869632Z",
     "start_time": "2025-03-26T02:08:00.866340Z"
    }
   },
   "cell_type": "code",
   "source": [
    "# Sampling rate\n",
    "sfreq = fs # creating a copy of the variable here\n",
    "print(\"Sampling frequency:\", sfreq)"
   ],
   "id": "587bd06d61f23949",
   "outputs": [
    {
     "name": "stdout",
     "output_type": "stream",
     "text": [
      "Sampling frequency: 1000.0\n"
     ]
    }
   ],
   "execution_count": 24
  },
  {
   "metadata": {
    "ExecuteTime": {
     "end_time": "2025-03-26T02:08:43.829442Z",
     "start_time": "2025-03-26T02:08:43.827358Z"
    }
   },
   "cell_type": "code",
   "source": [
    "n_channels = eeg_data.shape[1]\n",
    "channel_names = [f\"EEG{i}\" for i in range(n_channels)]\n",
    "print(\"Channel names:\", channel_names)"
   ],
   "id": "1ab747abc5eba1ff",
   "outputs": [
    {
     "name": "stdout",
     "output_type": "stream",
     "text": [
      "Channel names: ['EEG0', 'EEG1', 'EEG2', 'EEG3', 'EEG4', 'EEG5', 'EEG6', 'EEG7', 'EEG8', 'EEG9', 'EEG10', 'EEG11', 'EEG12', 'EEG13', 'EEG14', 'EEG15', 'EEG16', 'EEG17', 'EEG18', 'EEG19', 'EEG20', 'EEG21', 'EEG22', 'EEG23', 'EEG24', 'EEG25', 'EEG26', 'EEG27', 'EEG28', 'EEG29', 'EEG30', 'EEG31', 'EEG32', 'EEG33', 'EEG34', 'EEG35', 'EEG36', 'EEG37', 'EEG38', 'EEG39', 'EEG40', 'EEG41', 'EEG42', 'EEG43', 'EEG44', 'EEG45', 'EEG46', 'EEG47', 'EEG48', 'EEG49', 'EEG50', 'EEG51', 'EEG52', 'EEG53', 'EEG54', 'EEG55', 'EEG56', 'EEG57', 'EEG58', 'EEG59', 'EEG60', 'EEG61', 'EEG62']\n"
     ]
    }
   ],
   "execution_count": 26
  },
  {
   "metadata": {
    "ExecuteTime": {
     "end_time": "2025-03-26T02:09:53.496324Z",
     "start_time": "2025-03-26T02:09:53.493493Z"
    }
   },
   "cell_type": "code",
   "source": [
    "# MNE expects shape (n_channels, n_times)\n",
    "print(f\"eeg data shape: {eeg_data.shape}\")"
   ],
   "id": "50c4a2d9b0cddda5",
   "outputs": [
    {
     "name": "stdout",
     "output_type": "stream",
     "text": [
      "eeg data shape: (3691800, 63)\n"
     ]
    }
   ],
   "execution_count": 27
  },
  {
   "metadata": {
    "ExecuteTime": {
     "end_time": "2025-03-26T02:10:54.226405Z",
     "start_time": "2025-03-26T02:10:54.224680Z"
    }
   },
   "cell_type": "code",
   "source": [
    "# because the data is (n_samples, n_channels) we transpose for mne\n",
    "eeg_data = eeg_data.T\n",
    "print(\"After transpose, EEG data shape:\", eeg_data.shape)"
   ],
   "id": "3a371ae6e143aeec",
   "outputs": [
    {
     "name": "stdout",
     "output_type": "stream",
     "text": [
      "After transpose, EEG data shape: (63, 3691800)\n"
     ]
    }
   ],
   "execution_count": 28
  },
  {
   "metadata": {},
   "cell_type": "markdown",
   "source": "",
   "id": "6229fb2c1cabd888"
  },
  {
   "metadata": {},
   "cell_type": "code",
   "outputs": [],
   "execution_count": null,
   "source": "",
   "id": "179d1cb0496a0714"
  }
 ],
 "metadata": {
  "kernelspec": {
   "display_name": "Python 3",
   "language": "python",
   "name": "python3"
  },
  "language_info": {
   "codemirror_mode": {
    "name": "ipython",
    "version": 2
   },
   "file_extension": ".py",
   "mimetype": "text/x-python",
   "name": "python",
   "nbconvert_exporter": "python",
   "pygments_lexer": "ipython2",
   "version": "2.7.6"
  }
 },
 "nbformat": 4,
 "nbformat_minor": 5
}
